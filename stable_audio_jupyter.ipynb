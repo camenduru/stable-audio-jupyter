{
  "cells": [
    {
      "cell_type": "markdown",
      "metadata": {
        "id": "view-in-github"
      },
      "source": [
        "[![Open In Colab](https://colab.research.google.com/assets/colab-badge.svg)](https://colab.research.google.com/github/camenduru/stable-audio-jupyter/blob/main/stable_audio_jupyter.ipynb)"
      ]
    },
    {
      "cell_type": "code",
      "execution_count": null,
      "metadata": {
        "id": "VjYy0F2gZIPR"
      },
      "outputs": [],
      "source": [
        "!pip install stable-audio-tools\n",
        "\n",
        "import torch\n",
        "import torchaudio\n",
        "from einops import rearrange\n",
        "from stable_audio_tools import get_pretrained_model\n",
        "from stable_audio_tools.inference.generation import generate_diffusion_cond\n",
        "\n",
        "device = \"cuda\" if torch.cuda.is_available() else \"cpu\"\n",
        "\n",
        "# Download model\n",
        "model, model_config = get_pretrained_model(\"audo/stable-audio-open-1.0\")\n",
        "sample_rate = model_config[\"sample_rate\"]\n",
        "sample_size = model_config[\"sample_size\"]\n",
        "\n",
        "model = model.to(device)"
      ]
    },
    {
      "cell_type": "code",
      "execution_count": null,
      "metadata": {},
      "outputs": [],
      "source": [
        "# Set up text and timing conditioning\n",
        "conditioning = [{\n",
        "    \"prompt\": \"dance\",\n",
        "    \"seconds_start\": 0, \n",
        "    \"seconds_total\": 30\n",
        "}]\n",
        "\n",
        "# Generate stereo audio\n",
        "output = generate_diffusion_cond(\n",
        "    model,\n",
        "    steps=100,\n",
        "    cfg_scale=7,\n",
        "    conditioning=conditioning,\n",
        "    sample_size=sample_size,\n",
        "    sigma_min=0.3,\n",
        "    sigma_max=500,\n",
        "    sampler_type=\"dpmpp-3m-sde\",\n",
        "    device=device\n",
        ")\n",
        "\n",
        "# Rearrange audio batch to a single sequence\n",
        "output = rearrange(output, \"b d n -> d (b n)\")\n",
        "\n",
        "# Peak normalize, clip, convert to int16, and save to file\n",
        "output = output.to(torch.float32).div(torch.max(torch.abs(output))).clamp(-1, 1).mul(32767).to(torch.int16).cpu()\n",
        "torchaudio.save(\"output.wav\", output, sample_rate)\n",
        "\n",
        "from IPython.display import Audio, display\n",
        "display(Audio(\"/content/output.wav\", autoplay=True))"
      ]
    }
  ],
  "metadata": {
    "accelerator": "GPU",
    "colab": {
      "gpuType": "T4",
      "provenance": []
    },
    "kernelspec": {
      "display_name": "Python 3",
      "name": "python3"
    },
    "language_info": {
      "name": "python"
    }
  },
  "nbformat": 4,
  "nbformat_minor": 0
}
